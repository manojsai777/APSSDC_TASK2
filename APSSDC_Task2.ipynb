{
 "cells": [
  {
   "cell_type": "code",
   "execution_count": 1,
   "metadata": {},
   "outputs": [
    {
     "name": "stdout",
     "output_type": "stream",
     "text": [
      "Enter your roll no:AP19110010019\n",
      " You belongs to  CSE deppartment\n"
     ]
    }
   ],
   "source": [
    "#Take last 3 values of roll no(AP19110010109)\n",
    "# if values start with \"01\" --> 'CSE dept'\n",
    "# elif values start with \"11\" --> 'IT dept'\n",
    "# elif values is stsrt with \"21\" --> 'ECE dept'\n",
    "# else not an srm student\n",
    "roll = input(\"Enter your roll no:\")\n",
    "if roll[-3:].startswith('01'):\n",
    "    print(\" You belongs to  CSE deppartment\")\n",
    "elif roll[-3:].startswith('11'):\n",
    "    print(\"You belongs to IT department\")\n",
    "elif roll[-3:].startswith('21'):\n",
    "    print(\"You belongs to ECE department\")\n",
    "else:\n",
    "    print(\" You're Not an SRM Student\")\n",
    "    \n"
   ]
  },
  {
   "cell_type": "code",
   "execution_count": null,
   "metadata": {},
   "outputs": [],
   "source": []
  }
 ],
 "metadata": {
  "kernelspec": {
   "display_name": "Python 3",
   "language": "python",
   "name": "python3"
  },
  "language_info": {
   "codemirror_mode": {
    "name": "ipython",
    "version": 3
   },
   "file_extension": ".py",
   "mimetype": "text/x-python",
   "name": "python",
   "nbconvert_exporter": "python",
   "pygments_lexer": "ipython3",
   "version": "3.7.4"
  }
 },
 "nbformat": 4,
 "nbformat_minor": 2
}
